{
 "cells": [
  {
   "cell_type": "code",
   "execution_count": 21,
   "metadata": {},
   "outputs": [
    {
     "name": "stdout",
     "output_type": "stream",
     "text": [
      "c:\\Program Files\\Python\\Python3128\\python312.zip\n",
      "c:\\Program Files\\Python\\Python3128\\DLLs\n",
      "c:\\Program Files\\Python\\Python3128\\Lib\n",
      "c:\\Program Files\\Python\\Python3128\n",
      "\n",
      "C:\\Users\\22953\\AppData\\Roaming\\Python\\Python312\\site-packages\n",
      "C:\\Users\\22953\\AppData\\Roaming\\Python\\Python312\\site-packages\\win32\n",
      "C:\\Users\\22953\\AppData\\Roaming\\Python\\Python312\\site-packages\\win32\\lib\n",
      "C:\\Users\\22953\\AppData\\Roaming\\Python\\Python312\\site-packages\\Pythonwin\n",
      "c:\\Program Files\\Python\\Python3128\\Lib\\site-packages\n",
      "c:\\Users\\22953\\Desktop\\NextJS\\python\\brain-factor\n"
     ]
    },
    {
     "ename": "ModuleNotFoundError",
     "evalue": "No module named 'utils'",
     "output_type": "error",
     "traceback": [
      "\u001b[1;31m---------------------------------------------------------------------------\u001b[0m",
      "\u001b[1;31mModuleNotFoundError\u001b[0m                       Traceback (most recent call last)",
      "Cell \u001b[1;32mIn[21], line 5\u001b[0m\n\u001b[0;32m      2\u001b[0m \u001b[38;5;28;01mfrom\u001b[39;00m\u001b[38;5;250m \u001b[39m\u001b[38;5;21;01mpathlib\u001b[39;00m\u001b[38;5;250m \u001b[39m\u001b[38;5;28;01mimport\u001b[39;00m Path\n\u001b[0;32m      4\u001b[0m \u001b[38;5;28mprint\u001b[39m(\u001b[38;5;124m\"\u001b[39m\u001b[38;5;130;01m\\n\u001b[39;00m\u001b[38;5;124m\"\u001b[39m\u001b[38;5;241m.\u001b[39mjoin(sys\u001b[38;5;241m.\u001b[39mpath))\n\u001b[1;32m----> 5\u001b[0m \u001b[38;5;28;01mfrom\u001b[39;00m\u001b[38;5;250m \u001b[39m\u001b[38;5;21;01mutils\u001b[39;00m\u001b[38;5;21;01m.\u001b[39;00m\u001b[38;5;21;01mbrainLogin\u001b[39;00m\u001b[38;5;250m \u001b[39m\u001b[38;5;28;01mimport\u001b[39;00m get_session\n\u001b[0;32m      6\u001b[0m \u001b[38;5;28;01mfrom\u001b[39;00m\u001b[38;5;250m \u001b[39m\u001b[38;5;21;01mutils\u001b[39;00m\u001b[38;5;21;01m.\u001b[39;00m\u001b[38;5;21;01mbrainSimulationSubmitAlpha\u001b[39;00m\u001b[38;5;250m \u001b[39m\u001b[38;5;28;01mimport\u001b[39;00m submit_alpha\n\u001b[0;32m      8\u001b[0m session \u001b[38;5;241m=\u001b[39m get_session()\n",
      "\u001b[1;31mModuleNotFoundError\u001b[0m: No module named 'utils'"
     ]
    }
   ],
   "source": [
    "import sys\n",
    "from pathlib import Path\n",
    "\n",
    "print(\"\\n\".join(sys.path))\n",
    "from utils.brainLogin import get_session\n",
    "from utils.brainSimulationSubmitAlpha import submit_alpha\n",
    "\n",
    "session = get_session()\n",
    "submit_alpha(\"o6mqEXn\", session)\n"
   ]
  }
 ],
 "metadata": {
  "kernelspec": {
   "display_name": "Python 3",
   "language": "python",
   "name": "python3"
  },
  "language_info": {
   "codemirror_mode": {
    "name": "ipython",
    "version": 3
   },
   "file_extension": ".py",
   "mimetype": "text/x-python",
   "name": "python",
   "nbconvert_exporter": "python",
   "pygments_lexer": "ipython3",
   "version": "3.12.8"
  }
 },
 "nbformat": 4,
 "nbformat_minor": 2
}
